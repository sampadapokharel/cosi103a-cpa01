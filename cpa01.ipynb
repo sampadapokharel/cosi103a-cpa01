{
 "cells": [
  {
   "cell_type": "markdown",
   "id": "941bddb2-dec6-4ba1-86b6-1c5f5be1b8e6",
   "metadata": {},
   "source": [
    "# Spotify Streams"
   ]
  },
  {
   "cell_type": "markdown",
   "id": "f0d2e892-9403-4057-8a7c-4267730b37a5",
   "metadata": {},
   "source": [
    "I collected my data from a website called Kaggle. My dataset contains data from \"Top 200\" and \"Viral 50\" charts published globally by Spotify since January 1, 2017. \n",
    "To download the data, click on the link below and click the download button for the charts.csv file. https://www.kaggle.com/dhruvildave/spotify-charts"
   ]
  },
  {
   "cell_type": "code",
   "execution_count": null,
   "id": "09b0307e-337c-4eb6-a096-5a75b3e42d84",
   "metadata": {},
   "outputs": [],
   "source": [
    "import pandas as pd\n",
    "import numpy as np\n",
    "from matplotlib import pyplot as plt"
   ]
  },
  {
   "cell_type": "code",
   "execution_count": null,
   "id": "ef2cc533-25a5-45ba-9e3f-f9843ddcb7d3",
   "metadata": {},
   "outputs": [],
   "source": [
    "spotify = pd.read_csv(\"charts.csv\")\n",
    "spotify"
   ]
  },
  {
   "cell_type": "code",
   "execution_count": null,
   "id": "84e478e3-3a33-43fd-90d3-686c488a027e",
   "metadata": {},
   "outputs": [],
   "source": [
    "spotify.head()"
   ]
  },
  {
   "cell_type": "code",
   "execution_count": null,
   "id": "23bcb2db-80e3-4ce0-8665-61b195e4f402",
   "metadata": {},
   "outputs": [],
   "source": [
    "spotify.describe()"
   ]
  },
  {
   "cell_type": "code",
   "execution_count": null,
   "id": "3f80702c-205d-4544-a8fb-cacab3c1f112",
   "metadata": {},
   "outputs": [],
   "source": [
    "list(spotify.index)"
   ]
  },
  {
   "cell_type": "code",
   "execution_count": null,
   "id": "a21710f8-dbcc-4278-bfba-61107476d722",
   "metadata": {},
   "outputs": [],
   "source": [
    "list(spotify.columns)"
   ]
  },
  {
   "cell_type": "code",
   "execution_count": null,
   "id": "e896d67a-1501-4597-895f-c1affaa08fdb",
   "metadata": {},
   "outputs": [],
   "source": [
    "pd.pivot_table(data = spotify, index = [\"region\"])"
   ]
  },
  {
   "cell_type": "code",
   "execution_count": null,
   "id": "b14e4871-323e-48af-a1f5-d252f4c3e385",
   "metadata": {},
   "outputs": [],
   "source": [
    "spotify.plot(figsize=(15,10)) #ranks vs stream"
   ]
  },
  {
   "cell_type": "markdown",
   "id": "25580649-ebab-4cff-9038-b7aba7642b82",
   "metadata": {
    "tags": []
   },
   "source": [
    "### Interesting Questions"
   ]
  },
  {
   "cell_type": "markdown",
   "id": "45d9078f-a263-492f-b241-02e27cabb3b1",
   "metadata": {},
   "source": [
    "1. In a bar graph, show top 20 artist with the most streams."
   ]
  },
  {
   "cell_type": "code",
   "execution_count": null,
   "id": "2518366e-d98b-46ab-9b7f-cc420f3c7522",
   "metadata": {},
   "outputs": [],
   "source": [
    "bar = spotify.groupby(spotify['artist'])\n",
    "bar = bar['streams'].agg(sum)\n",
    "bar = bar.sort_values(ascending = False)\n",
    "bar = bar.head(20) #top 20\n",
    "plot = bar.plot.bar(figsize = (30,20), fontsize = 20, xlabel = \"Artist\", ylabel = \"Streams in 10 billions\")"
   ]
  },
  {
   "cell_type": "markdown",
   "id": "4db97a28-1256-4dd2-856c-120b218bc5ed",
   "metadata": {},
   "source": [
    "This data gives us info about the top 20 artist with the most amount of streams since 2017. The top artist is Ed Sheeran. This means that Ed Sheeran is very popular on Spotify, as he has the most amount of streams, and has the most of his songs charting in Top 200 or Viral 50 since 2017."
   ]
  },
  {
   "cell_type": "markdown",
   "id": "0bbacf53-02a3-4f94-a046-b16f97dfd067",
   "metadata": {},
   "source": [
    "2. In a bar graph, show us bottom 5 artist who barely made it to the Top 200 and Viral 50 charts."
   ]
  },
  {
   "cell_type": "code",
   "execution_count": null,
   "id": "5fe5f4a6-5604-4f51-934a-8236681eb400",
   "metadata": {},
   "outputs": [],
   "source": [
    "bar = spotify.groupby(spotify['artist'])\n",
    "bar = bar['streams'].agg(sum)\n",
    "bar = bar.sort_values(ascending = True)\n",
    "bar = bar.head(5) #bottom 5\n",
    "plot = bar.plot.bar(figsize = (30,20), fontsize = 20, xlabel = \"Artist\", ylabel = \"Streams in 10 billions\")"
   ]
  },
  {
   "cell_type": "markdown",
   "id": "5c821e0a-f923-4f66-998b-a8c3953b23b5",
   "metadata": {},
   "source": [
    "This data gives us info about the bottom 5 artist with the \"least\" amount of streams who made it Top 200 or Viral 50 chart. This means that these artists, although popular, only have some of their songs charting in Top 200 or Viral 50 since 2017."
   ]
  },
  {
   "cell_type": "code",
   "execution_count": null,
   "id": "41655ea9-bde8-495c-8c8f-215e59babfc9",
   "metadata": {},
   "outputs": [],
   "source": []
  }
 ],
 "metadata": {
  "kernelspec": {
   "display_name": "Python 3 (ipykernel)",
   "language": "python",
   "name": "python3"
  },
  "language_info": {
   "codemirror_mode": {
    "name": "ipython",
    "version": 3
   },
   "file_extension": ".py",
   "mimetype": "text/x-python",
   "name": "python",
   "nbconvert_exporter": "python",
   "pygments_lexer": "ipython3",
   "version": "3.9.7"
  }
 },
 "nbformat": 4,
 "nbformat_minor": 5
}
